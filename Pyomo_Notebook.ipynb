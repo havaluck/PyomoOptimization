{
 "cells": [
  {
   "cell_type": "code",
   "execution_count": 1,
   "id": "2bb1b5e9-75e3-479d-bf8c-ddce02c8f238",
   "metadata": {},
   "outputs": [
    {
     "name": "stdout",
     "output_type": "stream",
     "text": [
      "Model Product Mix Problem\n",
      "\n",
      "  Variables:\n",
      "    r : Size=1, Index=None\n",
      "        Key  : Lower : Value  : Upper : Fixed : Stale : Domain\n",
      "        None :     0 : 1000.0 :  None : False : False : NonNegativeReals\n",
      "    b : Size=1, Index=None\n",
      "        Key  : Lower : Value  : Upper : Fixed : Stale : Domain\n",
      "        None :     0 : 2000.0 :  None : False : False : NonNegativeReals\n",
      "\n",
      "  Objectives:\n",
      "    profit : Size=1, Index=None, Active=True\n",
      "        Key  : Active : Value\n",
      "        None :   True : 7450.0\n",
      "\n",
      "  Constraints:\n",
      "    f1 : Size=1\n",
      "        Key  : Lower : Body   : Upper\n",
      "        None :  None : 4000.0 : 4000.0\n",
      "    f2 : Size=1\n",
      "        Key  : Lower : Body   : Upper\n",
      "        None :  None : 5000.0 : 5000.0\n"
     ]
    }
   ],
   "source": [
    "%matplotlib inline\n",
    "import matplotlib.pyplot as plt\n",
    "import numpy as np\n",
    "import pandas as pd\n",
    "from io import StringIO\n",
    "from scipy.stats import norm\n",
    "from pylab import *\n",
    "from pyomo.environ import *\n",
    "\n",
    "model = ConcreteModel('Product Mix Problem')\n",
    "\n",
    "# DVs\n",
    "model.r = Var(domain=NonNegativeReals)\n",
    "model.b = Var(domain=NonNegativeReals)\n",
    "\n",
    "# DV and Constraint coefficients from Excel\n",
    "data = pd.read_excel('Pyomo_Excel.xlsx', sheet_name = 'Prod_Mix_Prob_Data', index_col = 0)\n",
    "\n",
    "# Objective Function\n",
    "model.profit = Objective(expr = float(data.Roses.Profit)*model.r + float(data.Begonias.Profit)*model.b, sense = maximize)\n",
    "\n",
    "# Constraints\n",
    "model.f1 = Constraint(expr = float(data.Roses.F1)*model.r + float(data.Begonias.F1)*model.b <= float(data.Available.F1))\n",
    "model.f2 = Constraint(expr = float(data.Roses.F2)*model.r + float(data.Begonias.F2)*model.b <= float(data.Available.F2))\n",
    "\n",
    "\n",
    "SolverFactory('glpk').solve(model)\n",
    "\n",
    "model.display()"
   ]
  },
  {
   "cell_type": "code",
   "execution_count": 3,
   "id": "3b79c842-59cb-486e-bb03-94cd4e81ecaa",
   "metadata": {},
   "outputs": [
    {
     "name": "stdout",
     "output_type": "stream",
     "text": [
      "Model Product Mix Continued\n",
      "\n",
      "  Variables:\n",
      "    r : Size=1, Index=None\n",
      "        Key  : Lower : Value : Upper : Fixed : Stale : Domain\n",
      "        None :     0 : 332.0 :  None : False : False : NonNegativeIntegers\n",
      "    b : Size=1, Index=None\n",
      "        Key  : Lower : Value  : Upper : Fixed : Stale : Domain\n",
      "        None :     0 : 2334.0 :  None : False : False : NonNegativeIntegers\n",
      "\n",
      "  Objectives:\n",
      "    profit : Size=1, Index=None, Active=True\n",
      "        Key  : Active : Value\n",
      "        None :   True : 6815.400000000001\n",
      "\n",
      "  Constraints:\n",
      "    f1 : Size=1\n",
      "        Key  : Lower : Body   : Upper\n",
      "        None :  None : 2998.0 : 4000.0\n",
      "    f2 : Size=1\n",
      "        Key  : Lower : Body   : Upper\n",
      "        None :  None : 5000.0 : 5000.0\n",
      "    ftotal : Size=1\n",
      "        Key  : Lower : Body   : Upper\n",
      "        None :  None : 7998.0 : 8000.0\n"
     ]
    }
   ],
   "source": [
    "model = ConcreteModel('Product Mix Continued')\n",
    "\n",
    "# DVs\n",
    "model.r = Var(domain=NonNegativeIntegers)\n",
    "model.b = Var(domain=NonNegativeIntegers)\n",
    "\n",
    "# DV and Constraint coefficients from Excel\n",
    "data = pd.read_excel('Pyomo_Excel.xlsx', sheet_name = 'Prod_Mix_Prob_Data', index_col = 0)\n",
    "\n",
    "# Objective Function\n",
    "model.profit = Objective(expr = float(data.Roses.Profit)*model.r + float(data.Begonias.Profit)*model.b, sense = maximize)\n",
    "\n",
    "# Constraints\n",
    "model.f1 = Constraint(expr = float(data.Roses.F1)*model.r + float(data.Begonias.F1)*model.b <= float(data.Available.F1))\n",
    "model.f2 = Constraint(expr = float(data.Roses.F2)*model.r + float(data.Begonias.F2)*model.b <= float(data.Available.F2))\n",
    "model.ftotal = Constraint(expr = float(data.Roses.Ftotal)*model.r + float(data.Begonias.Ftotal)*model.b <= float(data.Available.Ftotal))\n",
    "\n",
    "SolverFactory('glpk').solve(model)\n",
    "\n",
    "model.display()"
   ]
  },
  {
   "cell_type": "code",
   "execution_count": null,
   "id": "cd1d6081-79d7-41e7-bbb7-19224d1bc099",
   "metadata": {},
   "outputs": [],
   "source": []
  }
 ],
 "metadata": {
  "kernelspec": {
   "display_name": "Python 3",
   "language": "python",
   "name": "python3"
  },
  "language_info": {
   "codemirror_mode": {
    "name": "ipython",
    "version": 3
   },
   "file_extension": ".py",
   "mimetype": "text/x-python",
   "name": "python",
   "nbconvert_exporter": "python",
   "pygments_lexer": "ipython3",
   "version": "3.8.10"
  }
 },
 "nbformat": 4,
 "nbformat_minor": 5
}
