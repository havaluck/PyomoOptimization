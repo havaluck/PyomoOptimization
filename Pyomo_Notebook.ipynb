{
 "cells": [
  {
   "cell_type": "code",
   "execution_count": 11,
   "id": "2bb1b5e9-75e3-479d-bf8c-ddce02c8f238",
   "metadata": {},
   "outputs": [
    {
     "name": "stdout",
     "output_type": "stream",
     "text": [
      "\n",
      "Model:    Product Mix Problem\n",
      "Profit:   6816.666666666657\n",
      "Roses:    333.333333333333\n",
      "Begonias: 2333.33333333333\n",
      "f1:       2999.999999999996\n",
      "f2:       4999.999999999993\n"
     ]
    }
   ],
   "source": [
    "%matplotlib inline\n",
    "import matplotlib.pyplot as plt\n",
    "import numpy as np\n",
    "import pandas as pd\n",
    "from io import StringIO\n",
    "from scipy.stats import norm\n",
    "from pylab import *\n",
    "from pyomo.environ import *\n",
    "\n",
    "model = ConcreteModel('Product Mix Problem')\n",
    "\n",
    "# DVs\n",
    "model.r = Var(domain=NonNegativeReals)\n",
    "model.b = Var(domain=NonNegativeReals)\n",
    "\n",
    "# DV and Constraint coefficients from Excel\n",
    "data = pd.read_excel('Pyomo_Excel.xlsx', sheet_name = 'Prod_Mix_Prob_Data', index_col = 0)\n",
    "\n",
    "# Objective Function\n",
    "model.profit = Objective(expr = float(data.Roses.Profit)*model.r + float(data.Begonias.Profit)*model.b, sense = maximize)\n",
    "\n",
    "# Constraints\n",
    "model.f1 = Constraint(expr = float(data.Roses.F1)*model.r + float(data.Begonias.F1)*model.b <= float(data.Available.F1))\n",
    "model.f2 = Constraint(expr = float(data.Roses.F2)*model.r + float(data.Begonias.F2)*model.b <= float(data.Available.F2))\n",
    "model.ftotal = Constraint(expr = float(data.Roses.Ftotal)*model.r + float(data.Begonias.Ftotal)*model.b <= float(data.Available.Ftotal))\n",
    "\n",
    "# Duals\n",
    "model.dual = Suffix(direction = Suffix.IMPORT)\n",
    "\n",
    "SolverFactory('glpk').solve(model)\n",
    "\n",
    "print(f'''\n",
    "Model:    {model.name}\n",
    "Profit:   {model.profit()}\n",
    "Roses:    {model.r()}\n",
    "Begonias: {model.b()}\n",
    "f1:       {model.f1()}\n",
    "f2:       {model.f2()}''')"
   ]
  },
  {
   "cell_type": "code",
   "execution_count": 13,
   "id": "7bf22b76-c7ca-4d35-9081-4fbb8676a782",
   "metadata": {},
   "outputs": [
    {
     "name": "stdout",
     "output_type": "stream",
     "text": [
      "f1 0.0\n",
      "f2 0.35\n",
      "ftotal 0.633333333333333\n"
     ]
    }
   ],
   "source": [
    "for c in model.component_objects(Constraint, active=True):\n",
    "    print(c, model.dual[c])"
   ]
  },
  {
   "cell_type": "code",
   "execution_count": 5,
   "id": "3b79c842-59cb-486e-bb03-94cd4e81ecaa",
   "metadata": {},
   "outputs": [
    {
     "name": "stdout",
     "output_type": "stream",
     "text": [
      "\n",
      "Model:     Product Mix Continued\n",
      "Profit:    6815.40000\n",
      "Roses:     332.0\n",
      "Begonias:  2334.0\n",
      "f1:        2998.0\n",
      "f2:        5000.0\n",
      "ftotal:    7998.0\n",
      "\n"
     ]
    }
   ],
   "source": [
    "model = ConcreteModel('Product Mix Continued')\n",
    "\n",
    "# DVs\n",
    "model.r = Var(domain=NonNegativeIntegers)\n",
    "model.b = Var(domain=NonNegativeIntegers)\n",
    "\n",
    "# DV and Constraint coefficients from Excel\n",
    "data = pd.read_excel('Pyomo_Excel.xlsx', sheet_name = 'Prod_Mix_Prob_Data', index_col = 0)\n",
    "\n",
    "# Objective Function\n",
    "model.profit = Objective(expr = float(data.Roses.Profit)*model.r + float(data.Begonias.Profit)*model.b, sense = maximize)\n",
    "\n",
    "# Constraints\n",
    "model.f1 = Constraint(expr = float(data.Roses.F1)*model.r + float(data.Begonias.F1)*model.b <= float(data.Available.F1))\n",
    "model.f2 = Constraint(expr = float(data.Roses.F2)*model.r + float(data.Begonias.F2)*model.b <= float(data.Available.F2))\n",
    "model.ftotal = Constraint(expr = float(data.Roses.Ftotal)*model.r + float(data.Begonias.Ftotal)*model.b <= float(data.Available.Ftotal))\n",
    "\n",
    "# Duals\n",
    "model.dual = Suffix(direction = Suffix.IMPORT)\n",
    "\n",
    "#Solve\n",
    "SolverFactory('glpk').solve(model)\n",
    "\n",
    "print(f'''\n",
    "Model:     {model.name}\n",
    "Profit:   {model.profit(): .5f}\n",
    "Roses:     {model.r()}\n",
    "Begonias:  {model.b()}\n",
    "f1:        {model.f1()}\n",
    "f2:        {model.f2()}\n",
    "ftotal:    {model.ftotal()}\n",
    "''')\n"
   ]
  },
  {
   "cell_type": "code",
   "execution_count": 15,
   "id": "cd1d6081-79d7-41e7-bbb7-19224d1bc099",
   "metadata": {},
   "outputs": [
    {
     "name": "stdout",
     "output_type": "stream",
     "text": [
      "\n",
      "Model:     Product Mix Primal Dual\n",
      "Profit:               6,816.66667\n",
      "Roses:                333.33333\n",
      "Begonias:             2,333.33333\n",
      "f1:                   3,000.00000\n",
      "f2:                   5,000.00000\n",
      "ftotal:               8,000.00000\n",
      "f1 Dual:              0.00000\n",
      "f1 Upper Slack:       1,000.00000\n",
      "f1 Lower Slack:       inf\n",
      "f2 Dual:              0.35000\n",
      "f2 Upper Slack:       0.00000\n",
      "f2 Lower Slack:       inf\n",
      "ftotal Dual:          0.63333\n",
      "ftotal Upper Slack:   0.00000\n",
      "ftotal Lower Slack:   inf\n"
     ]
    }
   ],
   "source": [
    "%matplotlib inline\n",
    "import matplotlib.pyplot as plt\n",
    "import numpy as np\n",
    "import pandas as pd\n",
    "from io import StringIO\n",
    "from scipy.stats import norm\n",
    "from pylab import *\n",
    "from pyomo.environ import *\n",
    "\n",
    "model = ConcreteModel('Product Mix Primal Dual')\n",
    "\n",
    "# DVs\n",
    "model.r = Var(domain=NonNegativeReals)\n",
    "model.b = Var(domain=NonNegativeReals)\n",
    "\n",
    "# DV and Constraint coefficients from Excel\n",
    "data = pd.read_excel('Pyomo_Excel.xlsx', sheet_name = 'Prod_Mix_Prob_Data', index_col = 0)\n",
    "\n",
    "# Objective Function\n",
    "model.profit = Objective(expr = float(data.Roses.Profit)*model.r + float(data.Begonias.Profit)*model.b, sense = maximize)\n",
    "\n",
    "# Constraints\n",
    "model.f1 = Constraint(expr = float(data.Roses.F1)*model.r + float(data.Begonias.F1)*model.b <= float(data.Available.F1))\n",
    "model.f2 = Constraint(expr = float(data.Roses.F2)*model.r + float(data.Begonias.F2)*model.b <= float(data.Available.F2))\n",
    "model.ftotal = Constraint(expr = float(data.Roses.Ftotal)*model.r + float(data.Begonias.Ftotal)*model.b <= float(data.Available.Ftotal))\n",
    "\n",
    "# Duals\n",
    "model.dual = Suffix(direction = Suffix.IMPORT)\n",
    "\n",
    "SolverFactory('glpk').solve(model)\n",
    "\n",
    "print(f'''\n",
    "Model:     {model.name}\n",
    "Profit:               {model.profit():,.5f}\n",
    "Roses:                {model.r():,.5f}\n",
    "Begonias:             {model.b():,.5f}\n",
    "f1:                   {model.f1():,.5f}\n",
    "f2:                   {model.f2():,.5f}\n",
    "ftotal:               {model.ftotal():,.5f}\n",
    "f1 Dual:              {model.dual[model.f1]:,.5f}\n",
    "f1 Upper Slack:       {model.f1.uslack():,.5f}\n",
    "f1 Lower Slack:       {model.f1.lslack():,.5f}\n",
    "f2 Dual:              {model.dual[model.f2]:,.5f}\n",
    "f2 Upper Slack:       {model.f2.uslack():,.5f}\n",
    "f2 Lower Slack:       {model.f2.lslack():,.5f}\n",
    "ftotal Dual:          {model.dual[model.ftotal]:,.5f}\n",
    "ftotal Upper Slack:   {model.ftotal.uslack():,.5f}\n",
    "ftotal Lower Slack:   {model.ftotal.lslack():,.5f}''')\n"
   ]
  },
  {
   "cell_type": "code",
   "execution_count": 34,
   "id": "cc88cbe4-3951-4b93-b68d-2c2c90f8e12b",
   "metadata": {},
   "outputs": [
    {
     "name": "stdout",
     "output_type": "stream",
     "text": [
      "Model Product Mix Challenge\n",
      "\n",
      "  Variables:\n",
      "    dv : Size=2, Index=dv_index\n",
      "        Key : Lower : Value : Upper : Fixed : Stale : Domain\n",
      "          A :     0 :  15.0 :  None : False : False : NonNegativeReals\n",
      "          B :     0 :  15.0 :  None : False : False : NonNegativeReals\n",
      "\n",
      "  Objectives:\n",
      "    profit : Size=1, Index=None, Active=True\n",
      "        Key  : Active : Value\n",
      "        None :   True :  30.0\n",
      "\n",
      "  Constraints:\n",
      "    cons : Size=2\n",
      "        Key : Lower : Body  : Upper\n",
      "          1 :  None : 120.0 : 120.0\n",
      "          2 :  None : 120.0 : 120.0\n"
     ]
    }
   ],
   "source": [
    "%matplotlib inline\n",
    "import matplotlib.pyplot as plt\n",
    "import numpy as np\n",
    "import pandas as pd\n",
    "from io import StringIO\n",
    "from scipy.stats import norm\n",
    "from pylab import *\n",
    "from pyomo.environ import *\n",
    "\n",
    "model = ConcreteModel('Product Mix Challenge')\n",
    "\n",
    "# DV data read from Excel\n",
    "dv_df = pd.read_excel('Pyomo_Excel.xlsx', sheet_name = 'Prod_Mix_Ch_DV', index_col = 0)\n",
    "\n",
    "# Constraints data read from Excel\n",
    "data_df = pd.read_excel('Pyomo_Excel.xlsx', sheet_name = 'Prod_Mix_Ch_Data', index_col = 0)\n",
    "\n",
    "# Establish DV's\n",
    "dv_keys =  dv_df.keys()\n",
    "model.dv = Var(dv_keys, domain = NonNegativeReals)\n",
    "\n",
    "# Objective Function\n",
    "model.profit = Objective(expr = sum([model.dv[p] * dv_df.loc['Profit',p] for p in dv_keys]), sense = maximize)\n",
    "\n",
    "# Constraints\n",
    "data_indices = data_df.index\n",
    "model.cons = ConstraintList()\n",
    "\n",
    "for i in data_indices:\n",
    "    model.cons.add(sum([model.dv[p]*data_df.loc[i,p] for p in dv_keys]) <= data_df.loc[i, 'Available'])\n",
    "\n",
    "# Solve\n",
    "SolverFactory('glpk').solve(model)"
   ]
  }
 ],
 "metadata": {
  "kernelspec": {
   "display_name": "Python 3",
   "language": "python",
   "name": "python3"
  },
  "language_info": {
   "codemirror_mode": {
    "name": "ipython",
    "version": 3
   },
   "file_extension": ".py",
   "mimetype": "text/x-python",
   "name": "python",
   "nbconvert_exporter": "python",
   "pygments_lexer": "ipython3",
   "version": "3.8.10"
  }
 },
 "nbformat": 4,
 "nbformat_minor": 5
}
